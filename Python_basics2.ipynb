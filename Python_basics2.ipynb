{
  "nbformat": 4,
  "nbformat_minor": 0,
  "metadata": {
    "colab": {
      "name": "Python basics2",
      "provenance": [],
      "collapsed_sections": [],
      "authorship_tag": "ABX9TyMwWTgDdXy9ubtE9voqh6fF",
      "include_colab_link": true
    },
    "kernelspec": {
      "name": "python3",
      "display_name": "Python 3"
    }
  },
  "cells": [
    {
      "cell_type": "markdown",
      "metadata": {
        "id": "view-in-github",
        "colab_type": "text"
      },
      "source": [
        "<a href=\"https://colab.research.google.com/github/lydiamokaya/Python-basics/blob/master/Python_basics2.ipynb\" target=\"_parent\"><img src=\"https://colab.research.google.com/assets/colab-badge.svg\" alt=\"Open In Colab\"/></a>"
      ]
    },
    {
      "cell_type": "code",
      "metadata": {
        "id": "AvHQYGU00Meq",
        "colab_type": "code",
        "colab": {
          "base_uri": "https://localhost:8080/",
          "height": 88
        },
        "outputId": "361d96e9-1d94-484e-8bb8-65949b04e88c"
      },
      "source": [
        "\n",
        "contact_book = {'Parul' : 'parul@moringa.org',\n",
        "\n",
        "        'Thomas' : 'thomas@moringa.org',\n",
        "\n",
        "        'Ashley' : 'ashley@moringa.org',\n",
        "\n",
        "        'Kellen' : 'kellen@moringa.org',\n",
        "\n",
        "        'June' : 'june@moringa.org',\n",
        "\n",
        "        'Joseph' : 'joe@moringa.org',\n",
        "\n",
        "        'Lillian' : 'lillian@moringa.org',\n",
        "\n",
        "        'Arnold' : 'arnold@moringa.org' \n",
        "}\n",
        "#Delete a contact from the dictionary when the user specifies the its key \n",
        "print(\"Current Dictionary : \",contact_book)\n",
        "deletion_key= str(input('please enter contact to delete: '))\n",
        "if deletion_key in contact_book:\n",
        "  del contact_book[deletion_key]\n",
        "else :\n",
        "  print(\"Please enter a valid key.\")\n",
        "\n",
        "print(\"Final Dictionary \",contact_book)"
      ],
      "execution_count": null,
      "outputs": [
        {
          "output_type": "stream",
          "text": [
            "Current Dictionary :  {'Parul': 'parul@moringa.org', 'Thomas': 'thomas@moringa.org', 'Ashley': 'ashley@moringa.org', 'Kellen': 'kellen@moringa.org', 'June': 'june@moringa.org', 'Joseph': 'joe@moringa.org', 'Lillian': 'lillian@moringa.org', 'Arnold': 'arnold@moringa.org'}\n",
            "please enter contact to delete: June\n",
            "Final Dictionary  {'Parul': 'parul@moringa.org', 'Thomas': 'thomas@moringa.org', 'Ashley': 'ashley@moringa.org', 'Kellen': 'kellen@moringa.org', 'Joseph': 'joe@moringa.org', 'Lillian': 'lillian@moringa.org', 'Arnold': 'arnold@moringa.org'}\n"
          ],
          "name": "stdout"
        }
      ]
    },
    {
      "cell_type": "code",
      "metadata": {
        "id": "reyYxKGl1p6F",
        "colab_type": "code",
        "colab": {
          "base_uri": "https://localhost:8080/",
          "height": 34
        },
        "outputId": "c2b23aac-a019-459d-d215-30e38769dfcb"
      },
      "source": [
        "#Print out the first 2 contacts. \n",
        "first_2_contacts={k:contact_book[k] for k in list(contact_book)[:2]}\n",
        "print(\"First two contacts:\" + str(first_2_contacts))\n"
      ],
      "execution_count": null,
      "outputs": [
        {
          "output_type": "stream",
          "text": [
            "First two contacts:{'Parul': 'parul@moringa.org', 'Thomas': 'thomas@moringa.org'}\n"
          ],
          "name": "stdout"
        }
      ]
    },
    {
      "cell_type": "code",
      "metadata": {
        "id": "Ey1udWEgw5-E",
        "colab_type": "code",
        "colab": {
          "base_uri": "https://localhost:8080/",
          "height": 34
        },
        "outputId": "00dac0f2-4887-430b-886d-392bd12daecd"
      },
      "source": [
        "#Display the total no. of contacts left in the dictionary.\n",
        "print(\"Total number of contacts left are: \" + str(len(contact_book)))"
      ],
      "execution_count": null,
      "outputs": [
        {
          "output_type": "stream",
          "text": [
            "Total number of contacts left are: 7\n"
          ],
          "name": "stdout"
        }
      ]
    },
    {
      "cell_type": "code",
      "metadata": {
        "id": "gTyPpVhgxmTj",
        "colab_type": "code",
        "colab": {
          "base_uri": "https://localhost:8080/",
          "height": 54
        },
        "outputId": "9aee3290-a711-486e-bebe-017c47c300a2"
      },
      "source": [
        "#Add 2 new contacts in the dictionary. \n",
        "contact_book.update({'Madia': 'madia@moringa.org','Lydear':'lydear@moringa.org'})\n",
        "#Print out all the contacts\n",
        "print(\"Your contacts are: \" + str(contact_book))"
      ],
      "execution_count": null,
      "outputs": [
        {
          "output_type": "stream",
          "text": [
            "Your contacts are: {'Parul': 'parul@moringa.org', 'Thomas': 'thomas@moringa.org', 'Ashley': 'ashley@moringa.org', 'Kellen': 'kellen@moringa.org', 'Joseph': 'joe@moringa.org', 'Lillian': 'lillian@moringa.org', 'Arnold': 'arnold@moringa.org', 'Madia': 'madia@moringa.org', 'Lydear': 'lydear@moringa.org'}\n"
          ],
          "name": "stdout"
        }
      ]
    }
  ]
}