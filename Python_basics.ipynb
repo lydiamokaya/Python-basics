{
  "nbformat": 4,
  "nbformat_minor": 0,
  "metadata": {
    "colab": {
      "name": "Python_basics",
      "provenance": [],
      "collapsed_sections": [],
      "authorship_tag": "ABX9TyPLjlq4YLtMZUVApRR/IjFc",
      "include_colab_link": true
    },
    "kernelspec": {
      "name": "python3",
      "display_name": "Python 3"
    }
  },
  "cells": [
    {
      "cell_type": "markdown",
      "metadata": {
        "id": "view-in-github",
        "colab_type": "text"
      },
      "source": [
        "<a href=\"https://colab.research.google.com/github/lydiamokaya/Python-basics/blob/master/Python_basics.ipynb\" target=\"_parent\"><img src=\"https://colab.research.google.com/assets/colab-badge.svg\" alt=\"Open In Colab\"/></a>"
      ]
    },
    {
      "cell_type": "code",
      "metadata": {
        "id": "UEU-9z8dxCLY",
        "colab_type": "code",
        "colab": {}
      },
      "source": [
        "In this section, you will be required to create several python programs that should be able to perform the given operations then, display the results of the operations.\n",
        "\n",
        "Take in two values from a user (both in pounds) then convert those values to kilograms.\n",
        "Perform the sum of the values.\n",
        "Perform the average of the values.\n",
        "Find the difference between both values.  \n",
        "Find the quotient when one value is divided by the other.\n",
        "Determine and print out whether any of the numbers are even or add.\n",
        "Have comments applied appropriately.\n"
      ],
      "execution_count": null,
      "outputs": []
    },
    {
      "cell_type": "code",
      "metadata": {
        "id": "HHIWq9kozrpE",
        "colab_type": "code",
        "colab": {
          "base_uri": "https://localhost:8080/",
          "height": 238
        },
        "outputId": "7fcf27b3-84d7-47d3-b6df-d01baadb897c"
      },
      "source": [
        "#our code goes here\n",
        "#conversion of pounds to kgs.\n",
        "pounds_to_kgs = 0.453592\n",
        "\n",
        "#the code below prompts the user to enter values 1  and 2.\n",
        "value_1 = int(input(\"Please enter the first value: \"))\n",
        "value_2 = int(input(\"Please enter the second value: \"))\n",
        "print(\"Conversion rate: 1 pound = 0.453592 kilograms\")\n",
        "#the code below changes value 1 and 2 to kgs.\n",
        "value_1_kgs = value_1 * pounds_to_kgs\n",
        "value_2_kgs = value_2 * pounds_to_kgs\n",
        "print(\"value one to kilograms: {} kgs\".format(value_1_kgs))\n",
        "print(\"value two to kilograms: {} kgs\".format(value_2_kgs))\n",
        "\n",
        "  \n",
        "#finding the sum of the values.\n",
        "sum=(value_1_kgs + value_2_kgs)\n",
        "print (\"Sum is \" + str(sum))\n",
        "  \n",
        "#finding the average of the values.\n",
        "avg = (sum / 2)\n",
        "print(\"Average is \" + str(avg))\n",
        "\n",
        "#difference between both values\n",
        "dif1= (value_1_kgs - value_2_kgs)\n",
        "dif2=(value_2_kgs- value_1_kgs)\n",
        "print(\"Difference 1 is \" + str(dif1))\n",
        "print(\"Difference 2 is \" + str(dif2))\n",
        "\n",
        "#quotient when one value is divided by the other.\n",
        "q1=(value_1_kgs//value_2_kgs)\n",
        "q2=(value_2_kgs//value_1_kgs)\n",
        "print(\"Quotient 1 is \" + str(q1))\n",
        "print (\"Quotient 2 is \" + str(q2))\n",
        "\n",
        "#The code below determines and prints out whether value 1 is  even or odd.\n",
        "if value_1 % 2 == 0:\n",
        "  print(\"Value 1 is even\")\n",
        "else:\n",
        "  print(\"Value 1 is odd\")  \n",
        "  \n",
        "#The code below determines and prints out whether value 2 is  even or odd  \n",
        "\n",
        "if value_2 % 2==0:\n",
        "  print(\"value 2 is even\")  \n",
        "else:\n",
        "  print(\"value 2 is odd\")  \n",
        "\n",
        "\n",
        "  \n",
        "\n",
        "\n"
      ],
      "execution_count": null,
      "outputs": [
        {
          "output_type": "stream",
          "text": [
            "Please enter the first value: 90\n",
            "Please enter the second value: 78\n",
            "Conversion rate: 1 pound = 0.453592 kilograms\n",
            "value one to kilograms: 40.82328 kgs\n",
            "value two to kilograms: 35.380176 kgs\n",
            "Sum is 76.20345599999999\n",
            "Average is 38.101727999999994\n",
            "Difference 1 is 5.443103999999998\n",
            "Difference 2 is -5.443103999999998\n",
            "Quotient 1 is 1.0\n",
            "Quotient 2 is 0.0\n",
            "Value 1 is even\n",
            "value 2 is even\n"
          ],
          "name": "stdout"
        }
      ]
    }
  ]
}